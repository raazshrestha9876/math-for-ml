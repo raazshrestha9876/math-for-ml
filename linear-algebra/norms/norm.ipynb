{
 "cells": [
  {
   "cell_type": "markdown",
   "id": "c78340e3-927d-4ec3-9e18-0b944b7c1ea6",
   "metadata": {},
   "source": [
    "What is a Norm?\n",
    "\n",
    "Think of a vector as a list of numbers like this:\n",
    "\n",
    "v = [v₁, v₂, ..., vₙ]\n",
    "\n",
    "A norm is just a way to measure how long that vector is — like measuring the length of a stick.\n",
    "\n",
    "Analogy:\n",
    "\n",
    "     Imagine walking from your home to the market in a straight line. The distance you walk is like the norm of a vector — it tells you \"how far\" you go, regardless of direction\n"
   ]
  },
  {
   "cell_type": "markdown",
   "id": "d0877c58-29f5-4c11-a80a-122e939a1e0c",
   "metadata": {},
   "source": [
    "Formula for Norm (Length of a Vector):\n",
    "\n",
    "v = [v₁, v₂, ..., vₙ]\n",
    "\n",
    "Then the norm (length) is:\n",
    "\n",
    "   ||vec(v)|| = sqrt(v1 ^ 2 + v2 ^ 2 + ... + vn ^ 2)\n",
    "\n",
    "This is also called the Euclidean norm or L2 norm.\n",
    "    "
   ]
  },
  {
   "cell_type": "markdown",
   "id": "24c12ebf-5a5d-4d13-88e2-faa61de32b95",
   "metadata": {},
   "source": [
    " In Machine Learning, Why is Norm Important?\n",
    "Used in Gradient Descent to update weights.\n",
    "\n",
    "Helps with feature scaling and regularization (like L2 regularization).\n",
    "\n",
    "Helps measure distances between points, which is key for algorithms like KNN, SVM, etc."
   ]
  },
  {
   "cell_type": "markdown",
   "id": "2d3e3238-97d4-43e3-9836-7c7df1502d03",
   "metadata": {},
   "source": [
    "Problem: Find the norm of a vector"
   ]
  },
  {
   "cell_type": "code",
   "execution_count": 5,
   "id": "7cfa48c4-9fc3-45d2-8e2c-fb5edb3c4935",
   "metadata": {},
   "outputs": [
    {
     "name": "stdout",
     "output_type": "stream",
     "text": [
      "The norm (length) of the vector is: 181.86808406094787\n"
     ]
    }
   ],
   "source": [
    "import numpy as np\n",
    "\n",
    "#A sample feature vector (e.g., height, weight, age)\n",
    "v = np.array([170, 60, 24])\n",
    "\n",
    "#calculate the norm\n",
    "norm_v = np.linalg.norm(v)\n",
    "\n",
    "print(\"The norm (length) of the vector is:\", norm_v)\n"
   ]
  },
  {
   "cell_type": "markdown",
   "id": "d4a415c1-2081-44e7-8a42-2694d07ba45d",
   "metadata": {},
   "source": [
    "This means the \"distance\" of the vector from the origin (0,0,0) is about 181 units."
   ]
  },
  {
   "cell_type": "markdown",
   "id": "224190af-a344-4708-b9dd-4adf9fa50f74",
   "metadata": {},
   "source": [
    "Problem: Visualize Vector and Its Norm using Matplotlib"
   ]
  },
  {
   "cell_type": "code",
   "execution_count": 7,
   "id": "593b5b35-25d2-4512-a340-6f4ec0817828",
   "metadata": {},
   "outputs": [],
   "source": [
    "import matplotlib.pyplot as plt"
   ]
  },
  {
   "cell_type": "code",
   "execution_count": 18,
   "id": "b3269fdb-f3d8-4718-9db7-5451c6fc8444",
   "metadata": {},
   "outputs": [
    {
     "data": {
      "image/png": "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",
      "text/plain": [
       "<Figure size 600x600 with 1 Axes>"
      ]
     },
     "metadata": {},
     "output_type": "display_data"
    }
   ],
   "source": [
    "v = np.array([3, 4])\n",
    "\n",
    "norm_v = np.linalg.norm(v)\n",
    "\n",
    "#ploting\n",
    "plt.figure(figsize=(6, 6))\n",
    "plt.quiver(0, 0, v[0], v[1], angles='xy', scale_units='xy', scale=1, color='blue')\n",
    "plt.text(v[0], v[1], f\"|v| = {norm_v:.2f}\", fontsize=12, ha='left', va='bottom')\n",
    "\n",
    "plt.xlim(0, 5)\n",
    "plt.ylim(0, 5)\n",
    "plt.grid(True)\n",
    "plt.axhline(0, color='black', linewidth=1)\n",
    "plt.axvline(0, color='black', linewidth=1)\n",
    "plt.xlabel('x')\n",
    "plt.ylabel('y')\n",
    "plt.show()"
   ]
  },
  {
   "cell_type": "code",
   "execution_count": 19,
   "id": "7a6a378e-b884-44fe-916a-21cb3e0c9c9c",
   "metadata": {},
    }
   ],
   "source": [
    "What this shows:\n",
    "The blue arrow is your vector [3, 4].\n",
    "\n",
    "The length of the arrow is the norm, which is 5.0 because:\n",
    "\n",
    "||v|| = sqrt ( 3 ^ 2 + 4 ^ 2 ) = sqrt ( 9 + 16 ) = sqrt(25) = 5"
   ]
  },
  {
   "cell_type": "code",
   "execution_count": null,
   "id": "2dcb0278-5e01-4233-ac29-622884efaabb",
   "metadata": {},
   "outputs": [],
   "source": []
  }
 ],
 "metadata": {
  "kernelspec": {
   "display_name": "Python 3 (ipykernel)",
   "language": "python",
   "name": "python3"
  },
  "language_info": {
   "codemirror_mode": {
    "name": "ipython",
    "version": 3
   },
   "file_extension": ".py",
   "mimetype": "text/x-python",
   "name": "python",
   "nbconvert_exporter": "python",
   "pygments_lexer": "ipython3",
   "version": "3.13.4"
  }
 },
 "nbformat": 4,
 "nbformat_minor": 5
}
