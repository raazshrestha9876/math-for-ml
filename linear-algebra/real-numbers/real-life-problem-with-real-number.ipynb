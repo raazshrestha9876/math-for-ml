{
 "cells": [
  {
   "cell_type": "markdown",
   "id": "7ec5aa55-fa05-49b2-aa78-a8ac3d4b8c8b",
   "metadata": {},
   "source": [
    "# You are creating a model to predict house prices. You have these features:\n",
    "\n",
    "# Area (in sq meters)\n",
    "# Number of rooms\n",
    "# Price (in $1000)\n",
    "# Each of these is a real number.\n"
   ]
  },
  {
   "cell_type": "code",
   "execution_count": 16,
   "id": "6ed4bb77-5051-4714-baf6-cc6131ee1b5e",
   "metadata": {},
   "outputs": [
    {
     "name": "stdout",
     "output_type": "stream",
     "text": [
      "Requirement already satisfied: numpy in c:\\users\\nitro\\appdata\\local\\programs\\python\\python313\\lib\\site-packages (2.3.1)\n",
      "Note: you may need to restart the kernel to use updated packages.\n"
     ]
    }
   ],
   "source": [
    "import numpy as np"
   ]
  },
  {
   "cell_type": "markdown",
   "id": "4ec799e8-51cc-45b7-abe4-48a8fd186f6a",
   "metadata": {},
   "source": [
    "Step 1: Representing features as real numbers"
   ]
  },
  {
   "cell_type": "code",
   "execution_count": 17,
   "id": "82f591af-3bc2-4b79-b900-9cbf9f63c6be",
   "metadata": {},
   "outputs": [
    {
     "name": "stdout",
     "output_type": "stream",
     "text": [
      "House data (Area, Rooms, Price in $1000):\n",
      "[[120.5    3.   220.75]\n",
      " [ 85.3    2.   180.6 ]\n",
      " [150.     4.   310.4 ]\n",
      " [ 70.8    2.   160.2 ]\n",
      " [200.2    5.   400.9 ]]\n"
     ]
    }
   ],
   "source": [
    "import numpy as np\n",
    "\n",
    "# Area, Rooms, Price (All are real numbers)\n",
    "data = np.array([\n",
    "    [120.5, 3, 220.75],\n",
    "    [85.3, 2, 180.6],\n",
    "    [150.0, 4, 310.4],\n",
    "    [70.8, 2, 160.2],\n",
    "    [200.2, 5, 400.9]\n",
    "])\n",
    "\n",
    "print(\"House data (Area, Rooms, Price in $1000):\")\n",
    "print(data)\n"
   ]
  },
  {
   "cell_type": "markdown",
   "id": "616a9960-575f-477c-b5e8-4c88facfd990",
   "metadata": {},
   "source": [
    "step 2: Basic math operations on real numbers"
   ]
  },
  {
   "cell_type": "code",
   "execution_count": 22,
   "id": "d19876ba-0d2a-49c3-9c5c-9b39527f2840",
   "metadata": {},
   "outputs": [
    {
     "name": "stdout",
     "output_type": "stream",
     "text": [
      "Mean Price: 254.57\n",
      "Standard Deviation of Price: 89.49917094588083\n"
     ]
    }
   ],
   "source": [
    "#extract only price column\n",
    "prices = data[:, 2]\n",
    "\n",
    "#mean price\n",
    "mean_price = np.mean(prices)\n",
    "\n",
    "#standard deviations of prices (how spread out the prices are)\n",
    "std_price = np.std(prices)\n",
    "\n",
    "print(f\"Mean Price: {mean_price}\")\n",
    "print(f\"Standard Deviation of Price: {std_price}\")"
   ]
  },
  {
   "cell_type": "code",
   "execution_count": 23,
   "id": "568db610-ec16-4260-9ec1-c58f7b01172d",
   "metadata": {},
   "outputs": [
    {
     "name": "stdout",
     "output_type": "stream",
     "text": [
      "Collecting matplotlib\n",
      "  Downloading matplotlib-3.10.3-cp313-cp313-win_amd64.whl.metadata (11 kB)\n",
      "Collecting contourpy>=1.0.1 (from matplotlib)\n",
      "  Downloading contourpy-1.3.2-cp313-cp313-win_amd64.whl.metadata (5.5 kB)\n",
      "Collecting cycler>=0.10 (from matplotlib)\n",
      "  Downloading cycler-0.12.1-py3-none-any.whl.metadata (3.8 kB)\n",
      "Collecting fonttools>=4.22.0 (from matplotlib)\n",
      "  Downloading fonttools-4.58.4-cp313-cp313-win_amd64.whl.metadata (108 kB)\n",
      "Collecting kiwisolver>=1.3.1 (from matplotlib)\n",
      "  Downloading kiwisolver-1.4.8-cp313-cp313-win_amd64.whl.metadata (6.3 kB)\n",
      "Requirement already satisfied: numpy>=1.23 in c:\\users\\nitro\\appdata\\local\\programs\\python\\python313\\lib\\site-packages (from matplotlib) (2.3.1)\n",
      "Requirement already satisfied: packaging>=20.0 in c:\\users\\nitro\\appdata\\local\\programs\\python\\python313\\lib\\site-packages (from matplotlib) (25.0)\n",
      "Collecting pillow>=8 (from matplotlib)\n",
      "  Downloading pillow-11.2.1-cp313-cp313-win_amd64.whl.metadata (9.1 kB)\n",
      "Collecting pyparsing>=2.3.1 (from matplotlib)\n",
      "  Downloading pyparsing-3.2.3-py3-none-any.whl.metadata (5.0 kB)\n",
      "Requirement already satisfied: python-dateutil>=2.7 in c:\\users\\nitro\\appdata\\local\\programs\\python\\python313\\lib\\site-packages (from matplotlib) (2.9.0.post0)\n",
      "Requirement already satisfied: six>=1.5 in c:\\users\\nitro\\appdata\\local\\programs\\python\\python313\\lib\\site-packages (from python-dateutil>=2.7->matplotlib) (1.17.0)\n",
      "Downloading matplotlib-3.10.3-cp313-cp313-win_amd64.whl (8.1 MB)\n",
      "   ---------------------------------------- 0.0/8.1 MB ? eta -:--:--\n",
      "   - -------------------------------------- 0.3/8.1 MB ? eta -:--:--\n",
      "   -- ------------------------------------- 0.5/8.1 MB 1.7 MB/s eta 0:00:05\n",
      "   ----- ---------------------------------- 1.0/8.1 MB 2.0 MB/s eta 0:00:04\n",
      "   ------ --------------------------------- 1.3/8.1 MB 1.5 MB/s eta 0:00:05\n",
      "   --------- ------------------------------ 1.8/8.1 MB 1.7 MB/s eta 0:00:04\n",
      "   ---------- ----------------------------- 2.1/8.1 MB 1.7 MB/s eta 0:00:04\n",
      "   ------------ --------------------------- 2.6/8.1 MB 1.8 MB/s eta 0:00:04\n",
      "   -------------- ------------------------- 2.9/8.1 MB 1.8 MB/s eta 0:00:03\n",
      "   ---------------- ----------------------- 3.4/8.1 MB 1.8 MB/s eta 0:00:03\n",
      "   ------------------- -------------------- 3.9/8.1 MB 1.9 MB/s eta 0:00:03\n",
      "   ---------------------- ----------------- 4.5/8.1 MB 1.9 MB/s eta 0:00:02\n",
      "   ----------------------- ---------------- 4.7/8.1 MB 1.9 MB/s eta 0:00:02\n",
      "   ------------------------- -------------- 5.2/8.1 MB 1.9 MB/s eta 0:00:02\n",
      "   ------------------------- -------------- 5.2/8.1 MB 1.9 MB/s eta 0:00:02\n",
      "   ---------------------------- ----------- 5.8/8.1 MB 1.9 MB/s eta 0:00:02\n",
      "   ------------------------------- -------- 6.3/8.1 MB 1.8 MB/s eta 0:00:01\n",
      "   -------------------------------- ------- 6.6/8.1 MB 1.8 MB/s eta 0:00:01\n",
      "   --------------------------------- ------ 6.8/8.1 MB 1.8 MB/s eta 0:00:01\n",
      "   ----------------------------------- ---- 7.1/8.1 MB 1.8 MB/s eta 0:00:01\n",
      "   ------------------------------------ --- 7.3/8.1 MB 1.8 MB/s eta 0:00:01\n",
      "   ------------------------------------- -- 7.6/8.1 MB 1.7 MB/s eta 0:00:01\n",
      "   -------------------------------------- - 7.9/8.1 MB 1.7 MB/s eta 0:00:01\n",
      "   ---------------------------------------- 8.1/8.1 MB 1.7 MB/s eta 0:00:00\n",
      "Downloading contourpy-1.3.2-cp313-cp313-win_amd64.whl (223 kB)\n",
      "Downloading cycler-0.12.1-py3-none-any.whl (8.3 kB)\n",
      "Downloading fonttools-4.58.4-cp313-cp313-win_amd64.whl (2.2 MB)\n",
      "   ---------------------------------------- 0.0/2.2 MB ? eta -:--:--\n",
      "   ---- ----------------------------------- 0.3/2.2 MB ? eta -:--:--\n",
      "   --------- ------------------------------ 0.5/2.2 MB 1.3 MB/s eta 0:00:02\n",
      "   -------------- ------------------------- 0.8/2.2 MB 1.5 MB/s eta 0:00:01\n",
      "   ------------------ --------------------- 1.0/2.2 MB 1.5 MB/s eta 0:00:01\n",
      "   ----------------------- ---------------- 1.3/2.2 MB 1.5 MB/s eta 0:00:01\n",
      "   ---------------------------- ----------- 1.6/2.2 MB 1.3 MB/s eta 0:00:01\n",
      "   ------------------------------------- -- 2.1/2.2 MB 1.4 MB/s eta 0:00:01\n",
      "   ---------------------------------------- 2.2/2.2 MB 1.4 MB/s eta 0:00:00\n",
      "Downloading kiwisolver-1.4.8-cp313-cp313-win_amd64.whl (71 kB)\n",
      "Downloading pillow-11.2.1-cp313-cp313-win_amd64.whl (2.7 MB)\n",
      "   ---------------------------------------- 0.0/2.7 MB ? eta -:--:--\n",
      "   --- ------------------------------------ 0.3/2.7 MB ? eta -:--:--\n",
      "   --- ------------------------------------ 0.3/2.7 MB ? eta -:--:--\n",
      "   ------- -------------------------------- 0.5/2.7 MB 1.1 MB/s eta 0:00:03\n",
      "   --------------- ------------------------ 1.0/2.7 MB 1.3 MB/s eta 0:00:02\n",
      "   ------------------- -------------------- 1.3/2.7 MB 1.3 MB/s eta 0:00:02\n",
      "   ----------------------- ---------------- 1.6/2.7 MB 1.3 MB/s eta 0:00:01\n",
      "   ------------------------------- -------- 2.1/2.7 MB 1.4 MB/s eta 0:00:01\n",
      "   ----------------------------------- ---- 2.4/2.7 MB 1.5 MB/s eta 0:00:01\n",
      "   ---------------------------------------- 2.7/2.7 MB 1.5 MB/s eta 0:00:00\n",
      "Downloading pyparsing-3.2.3-py3-none-any.whl (111 kB)\n",
      "Installing collected packages: pyparsing, pillow, kiwisolver, fonttools, cycler, contourpy, matplotlib\n",
      "\n",
      "   ---------------------------------------- 0/7 [pyparsing]\n",
      "   ----- ---------------------------------- 1/7 [pillow]\n",
      "   ----- ---------------------------------- 1/7 [pillow]\n",
      "   ----- ---------------------------------- 1/7 [pillow]\n",
      "   ----- ---------------------------------- 1/7 [pillow]\n",
      "   ----------------- ---------------------- 3/7 [fonttools]\n",
      "   ----------------- ---------------------- 3/7 [fonttools]\n",
      "   ----------------- ---------------------- 3/7 [fonttools]\n",
      "   ----------------- ---------------------- 3/7 [fonttools]\n",
      "   ----------------- ---------------------- 3/7 [fonttools]\n",
      "   ----------------- ---------------------- 3/7 [fonttools]\n",
      "   ----------------- ---------------------- 3/7 [fonttools]\n",
      "   ----------------- ---------------------- 3/7 [fonttools]\n",
      "   ----------------- ---------------------- 3/7 [fonttools]\n",
      "   ----------------- ---------------------- 3/7 [fonttools]\n",
      "   ----------------- ---------------------- 3/7 [fonttools]\n",
      "   ----------------- ---------------------- 3/7 [fonttools]\n",
      "   ----------------- ---------------------- 3/7 [fonttools]\n",
      "   ----------------- ---------------------- 3/7 [fonttools]\n",
      "   ----------------- ---------------------- 3/7 [fonttools]\n",
      "   ----------------- ---------------------- 3/7 [fonttools]\n",
      "   ----------------- ---------------------- 3/7 [fonttools]\n",
      "   ---------------------------- ----------- 5/7 [contourpy]\n",
      "   ---------------------------------- ----- 6/7 [matplotlib]\n",
      "   ---------------------------------- ----- 6/7 [matplotlib]\n",
      "   ---------------------------------- ----- 6/7 [matplotlib]\n",
      "   ---------------------------------- ----- 6/7 [matplotlib]\n",
      "   ---------------------------------- ----- 6/7 [matplotlib]\n",
      "   ---------------------------------- ----- 6/7 [matplotlib]\n",
      "   ---------------------------------- ----- 6/7 [matplotlib]\n",
      "   ---------------------------------- ----- 6/7 [matplotlib]\n",
      "   ---------------------------------- ----- 6/7 [matplotlib]\n",
      "   ---------------------------------- ----- 6/7 [matplotlib]\n",
      "   ---------------------------------- ----- 6/7 [matplotlib]\n",
      "   ---------------------------------- ----- 6/7 [matplotlib]\n",
      "   ---------------------------------- ----- 6/7 [matplotlib]\n",
      "   ---------------------------------- ----- 6/7 [matplotlib]\n",
      "   ---------------------------------- ----- 6/7 [matplotlib]\n",
      "   ---------------------------------- ----- 6/7 [matplotlib]\n",
      "   ---------------------------------- ----- 6/7 [matplotlib]\n",
      "   ---------------------------------- ----- 6/7 [matplotlib]\n",
      "   ---------------------------------- ----- 6/7 [matplotlib]\n",
      "   ---------------------------------- ----- 6/7 [matplotlib]\n",
      "   ---------------------------------- ----- 6/7 [matplotlib]\n",
      "   ---------------------------------------- 7/7 [matplotlib]\n",
      "\n",
      "Successfully installed contourpy-1.3.2 cycler-0.12.1 fonttools-4.58.4 kiwisolver-1.4.8 matplotlib-3.10.3 pillow-11.2.1 pyparsing-3.2.3\n",
      "Note: you may need to restart the kernel to use updated packages.\n"
     ]
    }
   ],
   "source": [
    "pip install matplotlib"
   ]
  },
  {
   "cell_type": "markdown",
   "id": "307c3020-af41-430a-8f6b-518527fc848d",
   "metadata": {},
   "source": [
    "Step 3: Visualization using matplotlib"
   ]
  },
  {
   "cell_type": "code",
   "execution_count": 24,
   "id": "dae39115-3704-453f-912d-a55ba783226e",
   "metadata": {},
   "outputs": [
    {
     "data": {
      "image/png": "[encoded data removed]",
      "text/plain": [
       "<Figure size 640x480 with 1 Axes>"
      ]
     },
     "metadata": {},
     "output_type": "display_data"
    }
   ],
   "source": [
    "import matplotlib.pyplot as plt\n",
    "\n",
    "areas = data[:, 0]\n",
    "prices = data[:, 2]\n",
    "\n",
    "plt.scatter(areas, prices, color='green', label=\"Price vs Area\")\n",
    "plt.title(\"House Price vs Area\")\n",
    "plt.xlabel(\"Area (sq meters)\")\n",
    "plt.ylabel(\"Price ($1000)\")\n",
    "plt.grid(True)\n",
    "plt.legend()\n",
    "plt.show()\n"
   ]
  },
  {
   "cell_type": "code",
   "execution_count": null,
   "id": "93630de1-1e67-4f0d-a874-f19b5b695071",
   "metadata": {},
   "outputs": [],
   "source": []
  }
 ],
 "metadata": {
  "kernelspec": {
   "display_name": "Python 3 (ipykernel)",
   "language": "python",
   "name": "python3"
  },
  "language_info": {
   "codemirror_mode": {
    "name": "ipython",
    "version": 3
   },
   "file_extension": ".py",
   "mimetype": "text/x-python",
   "name": "python",
   "nbconvert_exporter": "python",
   "pygments_lexer": "ipython3",
   "version": "3.13.4"
  }
 },
 "nbformat": 4,
 "nbformat_minor": 5
}
